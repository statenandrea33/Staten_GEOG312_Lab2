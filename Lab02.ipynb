{
  "cells": [
    {
      "cell_type": "markdown",
      "metadata": {
        "id": "view-in-github",
        "colab_type": "text"
      },
      "source": [
        "<a href=\"https://colab.research.google.com/github/statenandrea33/Staten_GEOG312_Lab2/blob/main/Lab02.ipynb\" target=\"_parent\"><img src=\"https://colab.research.google.com/assets/colab-badge.svg\" alt=\"Open In Colab\"/></a>"
      ]
    },
    {
      "cell_type": "markdown",
      "metadata": {
        "id": "ozXUbkP8lZZ-"
      },
      "source": [
        "[![image](https://colab.research.google.com/assets/colab-badge.svg)](https://colab.research.google.com/github/giswqs/geog-312/blob/master/labs/lab_02.ipynb)\n",
        "[![image](https://binder.pangeo.io/badge_logo.svg)](https://gishub.org/geog312-pangeo)"
      ]
    },
    {
      "cell_type": "markdown",
      "metadata": {
        "id": "SkusL3rQlZaB"
      },
      "source": [
        "**Andrea Staten**"
      ]
    },
    {
      "cell_type": "code",
      "execution_count": 1,
      "metadata": {
        "id": "xVuE-PlJlZaC",
        "colab": {
          "base_uri": "https://localhost:8080/"
        },
        "outputId": "9affbb7a-a0a2-45cf-abc8-9e3dedf7d479"
      },
      "outputs": [
        {
          "output_type": "stream",
          "name": "stdout",
          "text": [
            "Submitted time: 2023-09-19 01:24:57.677745\n"
          ]
        }
      ],
      "source": [
        "from datetime import datetime\n",
        "\n",
        "now = datetime.now()\n",
        "print(f\"Submitted time: {now}\")"
      ]
    },
    {
      "cell_type": "markdown",
      "metadata": {
        "id": "Tltn9mBxlZaD"
      },
      "source": [
        "## Question 1\n",
        "**Names:** Store the names of a few of your friends in a list called names. Print\n",
        "each person’s name by accessing each element in the list, one at a time."
      ]
    },
    {
      "cell_type": "code",
      "execution_count": 2,
      "metadata": {
        "id": "SG_V-gN1lZaD",
        "outputId": "a267860e-7d30-4790-d85a-d279381f4a06",
        "colab": {
          "base_uri": "https://localhost:8080/"
        }
      },
      "outputs": [
        {
          "output_type": "stream",
          "name": "stdout",
          "text": [
            "maxwell\n",
            "jillian\n",
            "abby\n",
            "makayla\n"
          ]
        }
      ],
      "source": [
        "names = ['maxwell', 'jillian', 'abby', 'makayla']\n",
        "print(names[0])\n",
        "print(names[1])\n",
        "print(names[2])\n",
        "print(names[3])"
      ]
    },
    {
      "cell_type": "markdown",
      "metadata": {
        "id": "rCS1yyDvlZaE"
      },
      "source": [
        "## Question 2\n",
        "**Greetings:** Start with the list you used in Question 1, but instead of just printing each person’s name, print a message to them. The text of each message should be the same, but each message should be personalized with the person’s name."
      ]
    },
    {
      "cell_type": "code",
      "execution_count": 3,
      "metadata": {
        "id": "tTfc4HWQlZaE",
        "outputId": "e34427eb-94d3-466e-8135-41a1c0aade74",
        "colab": {
          "base_uri": "https://localhost:8080/"
        }
      },
      "outputs": [
        {
          "output_type": "stream",
          "name": "stdout",
          "text": [
            "Hi, what are you doing today Maxwell?\n",
            "Do you want to grab lunch Jillian?\n",
            "Hey Abby, how was your vacation?\n",
            "Makayla how is your dog?\n"
          ]
        }
      ],
      "source": [
        "names = ['maxwell', 'jillian', 'abby', 'makayla']\n",
        "message = f\"Hi, what are you doing today {names[0].title()}?\"\n",
        "print(message)\n",
        "message = f\"Do you want to grab lunch {names[1].title()}?\"\n",
        "print(message)\n",
        "message = f\"Hey {names[2].title()}, how was your vacation?\"\n",
        "print(message)\n",
        "message = f\"{names[3].title()} how is your dog?\"\n",
        "print(message)"
      ]
    },
    {
      "cell_type": "markdown",
      "metadata": {
        "id": "4oPcW7DTlZaE"
      },
      "source": [
        "## Question 3\n",
        "**Your Own List:** Think of your favorite mode of transportation, such as a motorcycle or a car, and make a list that stores several examples. Use your list to print a series of statements about these items, such as “I would like to own a Honda motorcycle.”"
      ]
    },
    {
      "cell_type": "code",
      "execution_count": 4,
      "metadata": {
        "id": "SBHP9C0OlZaF",
        "outputId": "d1f19c8d-4f6b-4eba-feea-f50d6d2ce994",
        "colab": {
          "base_uri": "https://localhost:8080/"
        }
      },
      "outputs": [
        {
          "output_type": "stream",
          "name": "stdout",
          "text": [
            "The first car I bought by myself was a Nissan Altima.\n",
            "My least favorite car that I have had was a Ford Focus.\n",
            "The car I would buy next would be a Honda Civic.\n"
          ]
        }
      ],
      "source": [
        "cars = ['nissan altima', 'ford focus', 'honda civic']\n",
        "message = f\"The first car I bought by myself was a {cars[0].title()}.\"\n",
        "print(message)\n",
        "message = f\"My least favorite car that I have had was a {cars[1].title()}.\"\n",
        "print(message)\n",
        "message = f\"The car I would buy next would be a {cars[2].title()}.\"\n",
        "print(message)"
      ]
    },
    {
      "cell_type": "markdown",
      "metadata": {
        "id": "2CkI-zpHlZaF"
      },
      "source": [
        "## Question 4\n",
        "**Guest List:** If you could invite anyone, living or deceased, to dinner, who would you invite? Make a list that includes at least three people you’d like to invite to dinner. Then use your list to print a message to each person, inviting them to dinner."
      ]
    },
    {
      "cell_type": "code",
      "execution_count": 5,
      "metadata": {
        "id": "5FRUdg_5lZaF",
        "colab": {
          "base_uri": "https://localhost:8080/"
        },
        "outputId": "1b7eefaf-a333-427b-a3f0-b641877480da"
      },
      "outputs": [
        {
          "output_type": "stream",
          "name": "stdout",
          "text": [
            " Maxwell Marcum, you are invited to have dinner with me!\n",
            " Chris Collins, you are invited to have dinner with me!\n",
            " Marilyn Meisenheimer, you are invited to have dinner with me!\n"
          ]
        }
      ],
      "source": [
        "names = ['Maxwell Marcum', 'Chris Collins', 'Marilyn Meisenheimer']\n",
        "for name in names:\n",
        "  print(f\" {name.title()}, you are invited to have dinner with me!\")"
      ]
    },
    {
      "cell_type": "markdown",
      "metadata": {
        "id": "AajpuEzZlZaF"
      },
      "source": [
        "## Question 5\n",
        "**Changing Guest List:** You just heard that one of your guests can’t make the dinner, so you need to send out a new set of invitations. You’ll have to think of someone else to invite."
      ]
    },
    {
      "cell_type": "markdown",
      "metadata": {
        "id": "Ykfg8YvSlZaG"
      },
      "source": [
        "Start with your program from Question 4. Add a print() call at the end of your program stating the name of the guest who can’t make it."
      ]
    },
    {
      "cell_type": "code",
      "execution_count": 6,
      "metadata": {
        "id": "WkxdP54UlZaG",
        "colab": {
          "base_uri": "https://localhost:8080/"
        },
        "outputId": "2986ca80-c262-4853-8425-82fcdd55b910"
      },
      "outputs": [
        {
          "output_type": "stream",
          "name": "stdout",
          "text": [
            "Maxwell Marcum, you are invited to have dinner with me!\n",
            "Chris Collins, you are invited to have dinner with me!\n",
            "Marilyn Meisenheimer, you are invited to have dinner with me!\n",
            "Sorry, Maxwell Marcum can not make it to dinner.\n"
          ]
        }
      ],
      "source": [
        "# For loop to invite all guests at once!\n",
        "names = ['Maxwell Marcum', 'Chris Collins', 'Marilyn Meisenheimer']\n",
        "for name in names:\n",
        "  print(f\"{name.title()}, you are invited to have dinner with me!\")\n",
        "\n",
        "# One of the guests can not make it.\n",
        "print(f\"Sorry, {names[0].title()} can not make it to dinner.\")"
      ]
    },
    {
      "cell_type": "markdown",
      "metadata": {
        "id": "ngWQzETnlZaG"
      },
      "source": [
        "Modify your list, replacing the name of the guest who can’t make it with the name of the new person you are inviting."
      ]
    },
    {
      "cell_type": "code",
      "source": [
        "names[0] = \"Jillian Degnan\""
      ],
      "metadata": {
        "id": "Uq635Atbvlmt"
      },
      "execution_count": 7,
      "outputs": []
    },
    {
      "cell_type": "markdown",
      "metadata": {
        "id": "IEUnzaYTlZaH"
      },
      "source": [
        "Print a second set of invitation messages, one for each person who is still in your list."
      ]
    },
    {
      "cell_type": "code",
      "source": [
        "for name in names:\n",
        "  print(f\"{name.title()}, you are invited to have dinner with me!\")"
      ],
      "metadata": {
        "colab": {
          "base_uri": "https://localhost:8080/"
        },
        "id": "iUP6Kv0wu9IN",
        "outputId": "fc4af87d-27b3-486e-df5b-439a13af3e68"
      },
      "execution_count": 8,
      "outputs": [
        {
          "output_type": "stream",
          "name": "stdout",
          "text": [
            "Jillian Degnan, you are invited to have dinner with me!\n",
            "Chris Collins, you are invited to have dinner with me!\n",
            "Marilyn Meisenheimer, you are invited to have dinner with me!\n"
          ]
        }
      ]
    },
    {
      "cell_type": "markdown",
      "metadata": {
        "id": "ArCYwwk_lZaH"
      },
      "source": [
        "## Question 6\n",
        "**More Guests:** You just found a bigger dinner table, so now more space is available. Think of three more guests to invite to dinner."
      ]
    },
    {
      "cell_type": "markdown",
      "metadata": {
        "id": "vrYl6z5plZaH"
      },
      "source": [
        "Start with your program from Question 4 or Question 5. Add a print() call to the end of your program informing people that you found a bigger dinner table."
      ]
    },
    {
      "cell_type": "code",
      "execution_count": 9,
      "metadata": {
        "id": "0J_90MTTlZaH",
        "colab": {
          "base_uri": "https://localhost:8080/"
        },
        "outputId": "dec32cbb-5bb2-4719-85ab-f778a2bedea0"
      },
      "outputs": [
        {
          "output_type": "stream",
          "name": "stdout",
          "text": [
            "Maxwell Marcum, you are invited to have dinner with me!\n",
            "Chris Collins, you are invited to have dinner with me!\n",
            "Marilyn Meisenheimer, you are invited to have dinner with me!\n",
            "Sorry, Maxwell Marcum can not make it to dinner.\n",
            "Jillian Degnan, you are invited to have dinner with me!\n",
            "Chris Collins, you are invited to have dinner with me!\n",
            "Marilyn Meisenheimer, you are invited to have dinner with me!\n",
            "We got a bigger table, so there will be more guests!\n"
          ]
        }
      ],
      "source": [
        "# For loop to invite all guests at once!\n",
        "names = ['Maxwell Marcum', 'Chris Collins', 'Marilyn Meisenheimer']\n",
        "for name in names:\n",
        "  print(f\"{name.title()}, you are invited to have dinner with me!\")\n",
        "\n",
        "# One of the guests can not make it.\n",
        "print(f\"Sorry, {names[0].title()} can not make it to dinner.\")\n",
        "\n",
        "# Switch Maxwell Marcum for Jillian Degnan.\n",
        "names[0] = \"Jillian Degnan\"\n",
        "\n",
        "# Send out invitations to new list of people.\n",
        "for name in names:\n",
        "  print(f\"{name.title()}, you are invited to have dinner with me!\")\n",
        "\n",
        "# Informing people there is a bigger table.\n",
        "print(\"We got a bigger table, so there will be more guests!\")"
      ]
    },
    {
      "cell_type": "markdown",
      "metadata": {
        "id": "9oJ1ke34lZaH"
      },
      "source": [
        "Use insert() to add one new guest to the beginning of your list."
      ]
    },
    {
      "cell_type": "code",
      "source": [
        "names.insert(0, \"Tyler Childers\")"
      ],
      "metadata": {
        "id": "6tmVZOYTxXrF"
      },
      "execution_count": 10,
      "outputs": []
    },
    {
      "cell_type": "markdown",
      "metadata": {
        "id": "A2ZHoanMlZaH"
      },
      "source": [
        "Use insert() to add one new guest to the middle of your list."
      ]
    },
    {
      "cell_type": "code",
      "execution_count": 11,
      "metadata": {
        "id": "sQBBtdkElZaI"
      },
      "outputs": [],
      "source": [
        "names.insert(2, \"Oliver Tree\")"
      ]
    },
    {
      "cell_type": "markdown",
      "metadata": {
        "id": "6GzhvbS7lZaI"
      },
      "source": [
        "Use append() to add one new guest to the end of your list."
      ]
    },
    {
      "cell_type": "code",
      "execution_count": 12,
      "metadata": {
        "id": "BL6ZIdvmlZaI"
      },
      "outputs": [],
      "source": [
        "names.append('Drake')"
      ]
    },
    {
      "cell_type": "markdown",
      "metadata": {
        "id": "5dsmkFp4lZaI"
      },
      "source": [
        "Print a new set of invitation messages, one for each person in your list."
      ]
    },
    {
      "cell_type": "code",
      "execution_count": 13,
      "metadata": {
        "id": "Dro26oTGlZaI",
        "colab": {
          "base_uri": "https://localhost:8080/"
        },
        "outputId": "9f9e89fb-9015-4509-895d-7d9ae0b57a17"
      },
      "outputs": [
        {
          "output_type": "stream",
          "name": "stdout",
          "text": [
            "Tyler Childers, you are invited to have dinner with me!\n",
            "Jillian Degnan, you are invited to have dinner with me!\n",
            "Oliver Tree, you are invited to have dinner with me!\n",
            "Chris Collins, you are invited to have dinner with me!\n",
            "Marilyn Meisenheimer, you are invited to have dinner with me!\n",
            "Drake, you are invited to have dinner with me!\n"
          ]
        }
      ],
      "source": [
        "for name in names:\n",
        "  print(f\"{name.title()}, you are invited to have dinner with me!\")"
      ]
    },
    {
      "cell_type": "markdown",
      "metadata": {
        "id": "KF7rcvnllZaI"
      },
      "source": [
        "## Question 7\n",
        "**Shrinking Guest List:** You just found out that your new dinner table won’t arrive in time for the dinner, and you have space for only two guests.\n",
        "\n",
        "Start with your program from Question 6. Add a new line that prints a message saying that you can invite only two people for dinner."
      ]
    },
    {
      "cell_type": "code",
      "execution_count": 14,
      "metadata": {
        "id": "2MmehLk6lZaI",
        "colab": {
          "base_uri": "https://localhost:8080/"
        },
        "outputId": "e27ac803-598e-429c-a9fc-7551c07bba52"
      },
      "outputs": [
        {
          "output_type": "stream",
          "name": "stdout",
          "text": [
            "Maxwell Marcum, you are invited to have dinner with me!\n",
            "Chris Collins, you are invited to have dinner with me!\n",
            "Marilyn Meisenheimer, you are invited to have dinner with me!\n",
            "Sorry, Maxwell Marcum can not make it to dinner.\n",
            "Jillian Degnan, you are invited to have dinner with me!\n",
            "Chris Collins, you are invited to have dinner with me!\n",
            "Marilyn Meisenheimer, you are invited to have dinner with me!\n",
            "We got a bigger table, so there will be more guests!\n",
            "Tyler Childers, you are invited to have dinner with me!\n",
            "Jillian Degnan, you are invited to have dinner with me!\n",
            "Oliver Tree, you are invited to have dinner with me!\n",
            "Chris Collins, you are invited to have dinner with me!\n",
            "Marilyn Meisenheimer, you are invited to have dinner with me!\n",
            "Drake, you are invited to have dinner with me!\n",
            "The table will not be here in time, so I can only invite two people!\n"
          ]
        }
      ],
      "source": [
        "# For loop to invite all guests at once!\n",
        "names = ['Maxwell Marcum', 'Chris Collins', 'Marilyn Meisenheimer']\n",
        "for name in names:\n",
        "  print(f\"{name.title()}, you are invited to have dinner with me!\")\n",
        "\n",
        "# One of the guests can not make it.\n",
        "print(f\"Sorry, {names[0].title()} can not make it to dinner.\")\n",
        "\n",
        "# Switch Maxwell Marcum for Jillian Degnan.\n",
        "names[0] = \"Jillian Degnan\"\n",
        "\n",
        "# Send out invitations to new list of people.\n",
        "for name in names:\n",
        "  print(f\"{name.title()}, you are invited to have dinner with me!\")\n",
        "\n",
        "# Informing people there is a bigger table.\n",
        "print(\"We got a bigger table, so there will be more guests!\")\n",
        "\n",
        "# Adding guests to the list.\n",
        "names.insert(0, \"Tyler Childers\")\n",
        "names.insert(2, \"Oliver Tree\")\n",
        "names.append('Drake')\n",
        "\n",
        "# Send out invitations to new list of people.\n",
        "for name in names:\n",
        "  print(f\"{name.title()}, you are invited to have dinner with me!\")\n",
        "\n",
        "# Only can invite two people to the dinner.\n",
        "print(\"The table will not be here in time, so I can only invite two people!\")"
      ]
    },
    {
      "cell_type": "markdown",
      "metadata": {
        "id": "Li-gMZ44lZaI"
      },
      "source": [
        "Use pop() to remove guests from your list one at a time until only two names remain in your list. Each time you pop a name from your list, print a message to that person letting them know you’re sorry you can’t invite them to dinner."
      ]
    },
    {
      "cell_type": "code",
      "execution_count": 15,
      "metadata": {
        "id": "YhSj1sJNlZaI",
        "colab": {
          "base_uri": "https://localhost:8080/"
        },
        "outputId": "1cb15eac-484d-4e67-a245-fd1111a755f4"
      },
      "outputs": [
        {
          "output_type": "stream",
          "name": "stdout",
          "text": [
            "Sorry, Tyler Childers, you can not come to the dinner.\n",
            "Sorry, Oliver Tree, you can not come to the dinner.\n",
            "Sorry, Jillian Degnan, you can not come to the dinner.\n",
            "Sorry, Drake, you can not come to the dinner.\n"
          ]
        }
      ],
      "source": [
        "print(f\"Sorry, {names[0].title()}, you can not come to the dinner.\")\n",
        "names.pop(0)\n",
        "print(f\"Sorry, {names[1].title()}, you can not come to the dinner.\")\n",
        "names.pop(1)\n",
        "print(f\"Sorry, {names[0].title()}, you can not come to the dinner.\")\n",
        "names.pop(0)\n",
        "print(f\"Sorry, {names.pop(2).title()}, you can not come to the dinner.\")"
      ]
    },
    {
      "cell_type": "markdown",
      "metadata": {
        "id": "GG9pyb3KlZaI"
      },
      "source": [
        "Print a message to each of the two people still on your list, letting them know they’re still invited."
      ]
    },
    {
      "cell_type": "code",
      "execution_count": 16,
      "metadata": {
        "id": "fCCfIVjnlZaJ",
        "colab": {
          "base_uri": "https://localhost:8080/"
        },
        "outputId": "1be29d19-9040-472f-bada-8df83f3f7923"
      },
      "outputs": [
        {
          "output_type": "stream",
          "name": "stdout",
          "text": [
            "Chris Collins, you can still come to the dinner!\n",
            "Marilyn Meisenheimer, you can still come to the dinner!\n"
          ]
        }
      ],
      "source": [
        "print(f\"{names[0].title()}, you can still come to the dinner!\")\n",
        "print(f\"{names[1].title()}, you can still come to the dinner!\")"
      ]
    },
    {
      "cell_type": "markdown",
      "metadata": {
        "id": "dlOmcXNxlZaJ"
      },
      "source": [
        "Use del to remove the last two names from your list, so you have an empty list. Print your list to make sure you actually have an empty list at the end of your program."
      ]
    },
    {
      "cell_type": "code",
      "execution_count": 17,
      "metadata": {
        "id": "uKYFDtNwlZaJ",
        "colab": {
          "base_uri": "https://localhost:8080/"
        },
        "outputId": "15168ac5-8049-4e50-f5b6-72c501ca9eb4"
      },
      "outputs": [
        {
          "output_type": "stream",
          "name": "stdout",
          "text": [
            "[]\n"
          ]
        }
      ],
      "source": [
        "del names[0]\n",
        "del names[0]\n",
        "print(names)"
      ]
    },
    {
      "cell_type": "markdown",
      "metadata": {
        "id": "Xlxkm3v1lZaJ"
      },
      "source": [
        "## Question 8\n",
        "**Seeing the World:** Think of at least five places in the world you’d like to visit.\n",
        "\n",
        "Store the locations in a list. Make sure the list is not in alphabetical order."
      ]
    },
    {
      "cell_type": "code",
      "execution_count": 18,
      "metadata": {
        "id": "-yRTsiuQlZaJ"
      },
      "outputs": [],
      "source": [
        "locations = ['Greece', 'Bora Bora', 'Redwood National Park', 'Joshua Tree National Park', 'Acadia National Park']"
      ]
    },
    {
      "cell_type": "markdown",
      "metadata": {
        "id": "rYG8r-EclZaN"
      },
      "source": [
        "Print your list in its original order. Don’t worry about printing the list neatly, just print it as a raw Python list."
      ]
    },
    {
      "cell_type": "code",
      "execution_count": 19,
      "metadata": {
        "id": "oZ5ji9ZhlZaN",
        "colab": {
          "base_uri": "https://localhost:8080/"
        },
        "outputId": "44f9e37c-559b-44ce-8970-b1c98ff3e381"
      },
      "outputs": [
        {
          "output_type": "stream",
          "name": "stdout",
          "text": [
            "['Greece', 'Bora Bora', 'Redwood National Park', 'Joshua Tree National Park', 'Acadia National Park']\n"
          ]
        }
      ],
      "source": [
        "print(locations)"
      ]
    },
    {
      "cell_type": "markdown",
      "metadata": {
        "id": "aYeTcAEUlZaN"
      },
      "source": [
        "Use sorted() to print your list in alphabetical order without modifying the actual list."
      ]
    },
    {
      "cell_type": "code",
      "execution_count": 20,
      "metadata": {
        "id": "_sEo6UDglZaO",
        "colab": {
          "base_uri": "https://localhost:8080/"
        },
        "outputId": "fb924c29-347e-44c0-e681-f1e37aed6ddd"
      },
      "outputs": [
        {
          "output_type": "stream",
          "name": "stdout",
          "text": [
            "['Acadia National Park', 'Bora Bora', 'Greece', 'Joshua Tree National Park', 'Redwood National Park']\n"
          ]
        }
      ],
      "source": [
        "print(sorted(locations))"
      ]
    },
    {
      "cell_type": "markdown",
      "metadata": {
        "id": "wq5CsrU-lZaO"
      },
      "source": [
        "Show that your list is still in its original order by printing it."
      ]
    },
    {
      "cell_type": "code",
      "execution_count": 21,
      "metadata": {
        "id": "_hWvr8QklZaO",
        "colab": {
          "base_uri": "https://localhost:8080/"
        },
        "outputId": "fb794684-a7a6-404c-a881-8f7214b92069"
      },
      "outputs": [
        {
          "output_type": "stream",
          "name": "stdout",
          "text": [
            "['Greece', 'Bora Bora', 'Redwood National Park', 'Joshua Tree National Park', 'Acadia National Park']\n"
          ]
        }
      ],
      "source": [
        "print(locations)"
      ]
    },
    {
      "cell_type": "markdown",
      "metadata": {
        "id": "KjDL0SEJlZaO"
      },
      "source": [
        "Use sorted() to print your list in reverse alphabetical order without changing the order of the original list."
      ]
    },
    {
      "cell_type": "code",
      "execution_count": 22,
      "metadata": {
        "id": "MZaPLe8clZaO",
        "colab": {
          "base_uri": "https://localhost:8080/"
        },
        "outputId": "30a830b6-897f-439f-b8fc-bc7585a0c98a"
      },
      "outputs": [
        {
          "output_type": "stream",
          "name": "stdout",
          "text": [
            "['Redwood National Park', 'Joshua Tree National Park', 'Greece', 'Bora Bora', 'Acadia National Park']\n"
          ]
        }
      ],
      "source": [
        "print(sorted(locations, reverse=True))"
      ]
    },
    {
      "cell_type": "markdown",
      "metadata": {
        "id": "Ca-qeIpmlZaO"
      },
      "source": [
        "Show that your list is still in its original order by printing it again."
      ]
    },
    {
      "cell_type": "code",
      "execution_count": 23,
      "metadata": {
        "id": "WT1jRDi0lZaO",
        "colab": {
          "base_uri": "https://localhost:8080/"
        },
        "outputId": "e0fa9bb7-23d9-4119-80bc-f24d2f61758f"
      },
      "outputs": [
        {
          "output_type": "stream",
          "name": "stdout",
          "text": [
            "['Greece', 'Bora Bora', 'Redwood National Park', 'Joshua Tree National Park', 'Acadia National Park']\n"
          ]
        }
      ],
      "source": [
        "print(locations)"
      ]
    },
    {
      "cell_type": "markdown",
      "metadata": {
        "id": "H84vqKiflZaO"
      },
      "source": [
        "Use reverse() to change the order of your list. Print the list to show that its order has changed."
      ]
    },
    {
      "cell_type": "code",
      "execution_count": 24,
      "metadata": {
        "id": "C1c-kfB6lZaP",
        "colab": {
          "base_uri": "https://localhost:8080/"
        },
        "outputId": "934af89c-99b6-4e5f-c195-fe1085dec4bb"
      },
      "outputs": [
        {
          "output_type": "stream",
          "name": "stdout",
          "text": [
            "['Acadia National Park', 'Joshua Tree National Park', 'Redwood National Park', 'Bora Bora', 'Greece']\n"
          ]
        }
      ],
      "source": [
        "locations.reverse()\n",
        "print(locations)"
      ]
    },
    {
      "cell_type": "markdown",
      "metadata": {
        "id": "J8RX4asklZaP"
      },
      "source": [
        "Use reverse() to change the order of your list again. Print the list to show it’s back to its original order."
      ]
    },
    {
      "cell_type": "code",
      "execution_count": 25,
      "metadata": {
        "id": "RVNg60J0lZaP",
        "colab": {
          "base_uri": "https://localhost:8080/"
        },
        "outputId": "18344886-fa3e-4997-cb8c-61fd9c94f034"
      },
      "outputs": [
        {
          "output_type": "stream",
          "name": "stdout",
          "text": [
            "['Greece', 'Bora Bora', 'Redwood National Park', 'Joshua Tree National Park', 'Acadia National Park']\n"
          ]
        }
      ],
      "source": [
        "locations.reverse()\n",
        "print(locations)"
      ]
    },
    {
      "cell_type": "markdown",
      "metadata": {
        "id": "KRNQJX18lZaP"
      },
      "source": [
        "Use sort() to change your list so it’s stored in alphabetical order. Print the list to show that its order has been changed."
      ]
    },
    {
      "cell_type": "code",
      "execution_count": 26,
      "metadata": {
        "id": "dj0Ydt-9lZaP",
        "colab": {
          "base_uri": "https://localhost:8080/"
        },
        "outputId": "4d9fc18b-3313-4a2e-8257-13452928f8d9"
      },
      "outputs": [
        {
          "output_type": "stream",
          "name": "stdout",
          "text": [
            "['Acadia National Park', 'Bora Bora', 'Greece', 'Joshua Tree National Park', 'Redwood National Park']\n"
          ]
        }
      ],
      "source": [
        "locations.sort()\n",
        "print(locations)"
      ]
    },
    {
      "cell_type": "markdown",
      "metadata": {
        "id": "6M1MmgVAlZaP"
      },
      "source": [
        "Use sort() to change your list so it’s stored in reverse alphabetical order. Print the list to show that its order has changed."
      ]
    },
    {
      "cell_type": "code",
      "execution_count": 27,
      "metadata": {
        "id": "K1nH8k3GlZaP",
        "colab": {
          "base_uri": "https://localhost:8080/"
        },
        "outputId": "a374c550-6371-4993-9b4f-15f22108120b"
      },
      "outputs": [
        {
          "output_type": "stream",
          "name": "stdout",
          "text": [
            "['Redwood National Park', 'Joshua Tree National Park', 'Greece', 'Bora Bora', 'Acadia National Park']\n"
          ]
        }
      ],
      "source": [
        "locations.sort(reverse=True)\n",
        "print(locations)"
      ]
    },
    {
      "cell_type": "markdown",
      "metadata": {
        "id": "OiKrLw1JlZaP"
      },
      "source": [
        "## Question 9\n",
        "**Dinner Guests:** Working with one of the programs from Question 4 through Question 7, use len() to print a message indicating the number of people you are inviting to dinner."
      ]
    },
    {
      "cell_type": "code",
      "execution_count": 28,
      "metadata": {
        "id": "j4BBwxqElZaQ",
        "colab": {
          "base_uri": "https://localhost:8080/"
        },
        "outputId": "e09366e6-ccd7-44d0-e2fe-da47a4f15aee"
      },
      "outputs": [
        {
          "output_type": "stream",
          "name": "stdout",
          "text": [
            "Maxwell Marcum, you are invited to have dinner with me!\n",
            "Chris Collins, you are invited to have dinner with me!\n",
            "Marilyn Meisenheimer, you are invited to have dinner with me!\n",
            "Sorry, Maxwell Marcum can not make it to dinner.\n",
            "Jillian Degnan, you are invited to have dinner with me!\n",
            "Chris Collins, you are invited to have dinner with me!\n",
            "Marilyn Meisenheimer, you are invited to have dinner with me!\n"
          ]
        },
        {
          "output_type": "execute_result",
          "data": {
            "text/plain": [
              "3"
            ]
          },
          "metadata": {},
          "execution_count": 28
        }
      ],
      "source": [
        "# For loop to invite all guests at once!\n",
        "names = ['Maxwell Marcum', 'Chris Collins', 'Marilyn Meisenheimer']\n",
        "for name in names:\n",
        "  print(f\"{name.title()}, you are invited to have dinner with me!\")\n",
        "\n",
        "# One of the guests can not make it.\n",
        "print(f\"Sorry, {names[0].title()} can not make it to dinner.\")\n",
        "\n",
        "names[0] = \"Jillian Degnan\"\n",
        "\n",
        "for name in names:\n",
        "  print(f\"{name.title()}, you are invited to have dinner with me!\")\n",
        "\n",
        "len(names)"
      ]
    },
    {
      "cell_type": "markdown",
      "metadata": {
        "id": "GXkDJZmIlZaQ"
      },
      "source": [
        "## Question 10\n",
        "**Every Function:** Think of something you could store in a list. For example, you could make a list of mountains, rivers, countries, cities, languages, or anything else you’d like. Write a program that creates a list containing these items and then uses each function introduced in this chapter at least once."
      ]
    },
    {
      "cell_type": "code",
      "execution_count": 29,
      "metadata": {
        "id": "JDzGmnvRlZaQ",
        "colab": {
          "base_uri": "https://localhost:8080/"
        },
        "outputId": "66e6a9bb-b4df-4552-895b-626ce69dcae2"
      },
      "outputs": [
        {
          "output_type": "stream",
          "name": "stdout",
          "text": [
            "I really like to watch Football.\n",
            "I really like to watch Soccer.\n",
            "I really like to watch Basketball.\n",
            "I really like to watch Baseball.\n",
            "I really like to watch Softball.\n",
            "I really like to watch Football.\n",
            "I like to play Soccer.\n",
            "I have never watched or played Softball.\n",
            "['football', 'soccer', 'basketball', 'baseball', 'softball']\n",
            "['football', 'soccer', 'basketball', 'baseball', 'hockey']\n",
            "['football', 'soccer', 'basketball', 'baseball', 'hockey']\n",
            "['golf', 'football', 'soccer', 'swimming', 'basketball', 'baseball', 'hockey', 'track']\n",
            "['golf', 'basketball', 'hockey', 'track']\n",
            "['basketball', 'golf', 'hockey', 'track']\n",
            "['golf', 'basketball', 'hockey', 'track']\n",
            "['track', 'hockey', 'golf', 'basketball']\n",
            "['golf', 'basketball', 'hockey', 'track']\n",
            "['track', 'hockey', 'basketball', 'golf']\n",
            "['basketball', 'golf', 'hockey', 'track']\n"
          ]
        },
        {
          "output_type": "execute_result",
          "data": {
            "text/plain": [
              "4"
            ]
          },
          "metadata": {},
          "execution_count": 29
        }
      ],
      "source": [
        "sports = ['football', 'soccer', 'basketball', 'baseball', 'softball']\n",
        "\n",
        "#Print a message each personalized to an item in the list. (Question 2)\n",
        "for sport in sports:\n",
        "  print(f\"I really like to watch {sport.title()}.\")\n",
        "\n",
        "#Specific statements about specific things. (Question 3/4)\n",
        "message = f\"I really like to watch {sports[0].title()}.\"\n",
        "print(message)\n",
        "message = f\"I like to play {sports[1].title()}.\"\n",
        "print(message)\n",
        "message = f\"I have never watched or played {sports[4].title()}.\"\n",
        "print(message)\n",
        "\n",
        "#Modify list (Question 5)\n",
        "print(sports)\n",
        "sports[4] = \"hockey\"\n",
        "print(sports)\n",
        "\n",
        "#Use insert() and append() to add sport to the beginning, middle, and end of the list. (Question 6)\n",
        "print(sports)\n",
        "sports.insert(0, \"golf\")\n",
        "sports.insert(3, \"swimming\")\n",
        "sports.append('track')\n",
        "print(sports)\n",
        "\n",
        "#Use pop() to remove sports from the list. Use delete to remove more. (Question 7)\n",
        "sports.pop(2)\n",
        "sports.pop(1)\n",
        "sports.pop(1)\n",
        "del sports[2]\n",
        "print(sports)\n",
        "\n",
        "#Use sorted() to print in alphabetical and reverse alphabetical. (Question 8)\n",
        "print(sorted(sports))\n",
        "print(sports)\n",
        "\n",
        "print(sorted(sports, reverse=True))\n",
        "print(sports)\n",
        "\n",
        "#Use reverse() to change order of list. (Question 8)\n",
        "sports.reverse()\n",
        "print(sports)\n",
        "\n",
        "#Use sort() to change list so its stored in alphabetical. (Question 8)\n",
        "sports.sort()\n",
        "print(sports)\n",
        "\n",
        "#Use len() to print how many sports are in the list. (Question 9)\n",
        "len(sports)"
      ]
    }
  ],
  "metadata": {
    "kernelspec": {
      "display_name": "Python 3 (ipykernel)",
      "language": "python",
      "name": "python3"
    },
    "language_info": {
      "codemirror_mode": {
        "name": "ipython",
        "version": 3
      },
      "file_extension": ".py",
      "mimetype": "text/x-python",
      "name": "python",
      "nbconvert_exporter": "python",
      "pygments_lexer": "ipython3",
      "version": "3.8.10"
    },
    "colab": {
      "provenance": [],
      "include_colab_link": true
    }
  },
  "nbformat": 4,
  "nbformat_minor": 0
}